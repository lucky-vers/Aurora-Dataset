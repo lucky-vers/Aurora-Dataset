{
 "cells": [
  {
   "cell_type": "code",
   "execution_count": null,
   "id": "f9550eb7-1932-4b91-879b-6b113c5c49c9",
   "metadata": {},
   "outputs": [],
   "source": [
    "import pandas as pd\n",
    "import numpy as np\n",
    "import matplotlib.pyplot as plt"
   ]
  },
  {
   "cell_type": "code",
   "execution_count": null,
   "id": "010ca3d2-feb9-4738-86a1-3ad9f0db06c0",
   "metadata": {},
   "outputs": [],
   "source": [
    "df = pd.read_csv('./NVMP_DATA.csv')"
   ]
  }
 ],
 "metadata": {
  "kernelspec": {
   "display_name": "Python 3 (ipykernel)",
   "language": "python",
   "name": "python3"
  },
  "language_info": {
   "codemirror_mode": {
    "name": "ipython",
    "version": 3
   },
   "file_extension": ".py",
   "mimetype": "text/x-python",
   "name": "python",
   "nbconvert_exporter": "python",
   "pygments_lexer": "ipython3",
   "version": "3.11.6"
  }
 },
 "nbformat": 4,
 "nbformat_minor": 5
}
